{
  "nbformat": 4,
  "nbformat_minor": 0,
  "metadata": {
    "colab": {
      "name": "NumpyTest.ipynb",
      "provenance": [],
      "authorship_tag": "ABX9TyPGEVIEeFy6iiKmm2QtLExY"
    },
    "kernelspec": {
      "name": "python3",
      "display_name": "Python 3"
    },
    "language_info": {
      "name": "python"
    }
  },
  "cells": [
    {
      "cell_type": "code",
      "metadata": {
        "id": "xJWNzAKltLJr"
      },
      "source": [
        "import numpy as np"
      ],
      "execution_count": 2,
      "outputs": []
    },
    {
      "cell_type": "code",
      "metadata": {
        "colab": {
          "base_uri": "https://localhost:8080/"
        },
        "id": "e3Zu3N2Mueg3",
        "outputId": "2587f66a-c442-459c-9f17-b4344967e059"
      },
      "source": [
        "data = [1, 2, 3, 4, 5]\n",
        "arr = np.array(data) #создать из list\n",
        "\n",
        "print(arr)\n",
        "print(arr.shape)\n",
        "print(arr.dtype)\n",
        "print(arr.ndim)\n",
        "\n"
      ],
      "execution_count": 4,
      "outputs": [
        {
          "output_type": "stream",
          "name": "stdout",
          "text": [
            "[1 2 3 4 5]\n",
            "(5,)\n",
            "int64\n",
            "1\n"
          ]
        }
      ]
    },
    {
      "cell_type": "code",
      "metadata": {
        "colab": {
          "base_uri": "https://localhost:8080/"
        },
        "id": "YDS_KehOvq7y",
        "outputId": "c94fa49f-b1b8-4355-e2d1-7e498707b054"
      },
      "source": [
        "arr4 = np.arange(1, 5, 0.5) #от 1 до 5 с шагом 0,5\n",
        "arr4"
      ],
      "execution_count": 5,
      "outputs": [
        {
          "output_type": "execute_result",
          "data": {
            "text/plain": [
              "array([1. , 1.5, 2. , 2.5, 3. , 3.5, 4. , 4.5])"
            ]
          },
          "metadata": {},
          "execution_count": 5
        }
      ]
    },
    {
      "cell_type": "code",
      "metadata": {
        "colab": {
          "base_uri": "https://localhost:8080/"
        },
        "id": "soZFgQ_uwChs",
        "outputId": "fc40376b-4d20-4cd8-dabd-bb9d58a391c8"
      },
      "source": [
        "arr5 = np.linspace(0, 2, 30) #заполнить от 0 до 2 30ю элементами\n",
        "arr5"
      ],
      "execution_count": 6,
      "outputs": [
        {
          "output_type": "execute_result",
          "data": {
            "text/plain": [
              "array([0.        , 0.06896552, 0.13793103, 0.20689655, 0.27586207,\n",
              "       0.34482759, 0.4137931 , 0.48275862, 0.55172414, 0.62068966,\n",
              "       0.68965517, 0.75862069, 0.82758621, 0.89655172, 0.96551724,\n",
              "       1.03448276, 1.10344828, 1.17241379, 1.24137931, 1.31034483,\n",
              "       1.37931034, 1.44827586, 1.51724138, 1.5862069 , 1.65517241,\n",
              "       1.72413793, 1.79310345, 1.86206897, 1.93103448, 2.        ])"
            ]
          },
          "metadata": {},
          "execution_count": 6
        }
      ]
    },
    {
      "cell_type": "code",
      "metadata": {
        "colab": {
          "base_uri": "https://localhost:8080/"
        },
        "id": "eg9bEWSPweuf",
        "outputId": "eb270b31-c986-4a37-e01c-0912c875d289"
      },
      "source": [
        "random_arr = np.random.random((5,)) #заполнить рандомными элем\n",
        "random_arr"
      ],
      "execution_count": 7,
      "outputs": [
        {
          "output_type": "execute_result",
          "data": {
            "text/plain": [
              "array([0.64431241, 0.40860893, 0.55635878, 0.93209644, 0.95813833])"
            ]
          },
          "metadata": {},
          "execution_count": 7
        }
      ]
    },
    {
      "cell_type": "code",
      "metadata": {
        "colab": {
          "base_uri": "https://localhost:8080/"
        },
        "id": "s33uE01twtD5",
        "outputId": "00754f78-78e1-4786-d881-5213b086a822"
      },
      "source": [
        "random_arr2 = (10 - -5)*np.random.random_sample((5,)) - 5 #5 чисел от 10 до -5\n",
        "random_arr2"
      ],
      "execution_count": 8,
      "outputs": [
        {
          "output_type": "execute_result",
          "data": {
            "text/plain": [
              "array([ 2.67422128,  7.62937298,  1.67444622,  7.43205601, -2.09961061])"
            ]
          },
          "metadata": {},
          "execution_count": 8
        }
      ]
    },
    {
      "cell_type": "code",
      "metadata": {
        "id": "2rrHerKoxNDA"
      },
      "source": [
        ""
      ],
      "execution_count": null,
      "outputs": []
    }
  ]
}